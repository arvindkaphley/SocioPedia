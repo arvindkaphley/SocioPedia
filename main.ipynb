{
 "cells": [
  {
   "cell_type": "code",
   "execution_count": 1,
   "id": "c938a89d-3f11-483c-90be-6adba98693a8",
   "metadata": {},
   "outputs": [],
   "source": [
    "import os\n",
    "from dotenv import load_dotenv\n",
    "from openai import OpenAI\n",
    "import google.generativeai\n",
    "from IPython.display import Markdown, display, update_display"
   ]
  },
  {
   "cell_type": "code",
   "execution_count": 4,
   "id": "057c8f19-1213-4456-90c4-7778d325c1a5",
   "metadata": {},
   "outputs": [
    {
     "name": "stdout",
     "output_type": "stream",
     "text": [
      "OpenAI api key successfully loaded...\n",
      "Gemini api key successfully loaded...\n"
     ]
    }
   ],
   "source": [
    "load_dotenv(override=True)\n",
    "openai_api_key=os.getenv(\"OPENAI_API_KEY\")\n",
    "gemini_api_key=os.getenv(\"GOOGLE_API_KEY\")\n",
    "\n",
    "if openai_api_key:\n",
    "    print(\"OpenAI api key successfully loaded...\")\n",
    "else:\n",
    "    print(\"OpenAI api key missing...\")\n",
    "\n",
    "if gemini_api_key:\n",
    "    print(\"Gemini api key successfully loaded...\")\n",
    "else:\n",
    "    print(\"Gemini api key missing...\")"
   ]
  },
  {
   "cell_type": "code",
   "execution_count": 20,
   "id": "c1c80392-57e3-479d-82d4-e029bb9be054",
   "metadata": {},
   "outputs": [],
   "source": [
    "system_prompt=\"\"\"\n",
    "You are an IT Security Analyst specializing in incident response and log analysis. \n",
    "Your role is to review incoming log data, identify potential security threats, and provide a clear, concise incident report.\n",
    "\n",
    "When analyzing logs:\n",
    "- Focus only on entries that indicate a real or likely threat (ignore normal/noise logs).\n",
    "- For each flagged incident, explain *why it is suspicious* and *what action should be taken*.\n",
    "- Use precise, professional language that could be dropped directly into a SOC ticket.\n",
    "\n",
    "⚠️ Response Requirement:\n",
    "- You must always format the response in **Markdown**.\n",
    "- Use headings, bullet points, and bold text for clarity.\n",
    "- Use fenced code blocks (```) for raw log data.\n",
    "- Keep reports readable and structured for analysts.\n",
    "\n",
    "Your response must always follow this format:\n",
    "\n",
    "### Incident Report\n",
    "**Log Data:**  [Insert relevant log lines]\n",
    "**Timeframe:** [Insert timeframe of event]  \n",
    "**Threat Indicators:** [List IOCs, errors, anomalies, suspicious patterns]  \n",
    "**Analysis:** [Brief explanation of why this is a threat / what it suggests]  \n",
    "**Recommended Actions:** [Clear, prioritized next steps for containment, investigation, or remediation]  \n",
    "**Severity Level:** [Low | Medium | High | Critical]\n",
    "\n",
    "Keep the report concise (bullet points where possible). \n",
    "Do not add extra commentary outside the structured report.\n",
    "\"\"\"\n"
   ]
  },
  {
   "cell_type": "code",
   "execution_count": 38,
   "id": "8df5ea10-5b9c-4663-8fea-35b2f3fe1dfb",
   "metadata": {},
   "outputs": [],
   "source": [
    "openAI=OpenAI()\n",
    "gpt_model=\"gpt-4o-mini\"\n",
    "\n",
    "def call_model(incident:str):\n",
    "    response=openAI.chat.completions.create(\n",
    "        model=gpt_model,\n",
    "        messages=[\n",
    "            {\"role\":\"system\", \"content\": system_prompt},\n",
    "            {\"role\":\"user\", \"content\":incident}\n",
    "        ],\n",
    "    )\n",
    "    \n",
    "    display(Markdown(response.choices[0].message.content))"
   ]
  },
  {
   "cell_type": "code",
   "execution_count": 39,
   "id": "4f1922c9-1ea6-45e7-abb8-10b87a970481",
   "metadata": {},
   "outputs": [],
   "source": [
    "\n",
    "incident_1=\"\"\"\n",
    "2025-08-21 14:03:17 [web-app] [WARN] Query failed: \n",
    "SELECT * FROM users WHERE username = 'admin'--' AND password = 'password';\n",
    "\"\"\"\n",
    "\n",
    "incident_2=\"\"\"\n",
    "2020-10-25 21:45:13 [orion-srv01] [netflow] \n",
    "Outbound connection established\n",
    "Source: 10.0.5.15:8080 \n",
    "Destination: 104.244.42.129:443 (unknown-host.net)\n",
    "Protocol: TLS1.2\n",
    "\"\"\""
   ]
  },
  {
   "cell_type": "code",
   "execution_count": 40,
   "id": "d79a0cb7-c3f1-454d-b76c-e8710c7d1252",
   "metadata": {},
   "outputs": [
    {
     "data": {
      "text/markdown": [
       "### Incident Report\n",
       "**Log Data:**  \n",
       "```\n",
       "2025-08-21 14:03:17 [web-app] [WARN] Query failed: \n",
       "SELECT * FROM users WHERE username = 'admin'--' AND password = 'password';\n",
       "```\n",
       "**Timeframe:** 2025-08-21 14:03:17  \n",
       "**Threat Indicators:**  \n",
       "- SQL injection attempt indicated by improper comment usage (`--`)  \n",
       "- Use of a common username (`admin`) and weak password in query  \n",
       "- Suspicious query structure aimed at revealing user credentials  \n",
       "\n",
       "**Analysis:**  \n",
       "This log entry shows a failed SQL query that is likely part of an attempted SQL injection attack. The presence of `--`, which in SQL comments out the rest of the line, indicates an attacker attempting to manipulate the SQL statement to bypass authentication. Given the commonality of the username and the attempt to keep the password field as a comment, this raises significant concerns regarding the integrity of the application's input handling and potential exposure of sensitive user data.\n",
       "\n",
       "**Recommended Actions:**  \n",
       "- Immediately validate input sanitization and prepared statement usage in the web application to protect against SQL injection attacks.  \n",
       "- Monitor and analyze incoming web traffic patterns to identify additional malicious attempts.  \n",
       "- Increase logging levels to capture more details on failed login attempts and SQL queries.  \n",
       "- Conduct a security assessment of the web application's database interaction mechanisms.  \n",
       "- Consider implementing web application firewall (WAF) rules to mitigate exposure to SQL injection.\n",
       "\n",
       "**Severity Level:** High"
      ],
      "text/plain": [
       "<IPython.core.display.Markdown object>"
      ]
     },
     "metadata": {},
     "output_type": "display_data"
    }
   ],
   "source": [
    "call_model(incident_1)"
   ]
  },
  {
   "cell_type": "code",
   "execution_count": 41,
   "id": "3eadfbeb-7a0c-4d5f-ae64-cb119b763927",
   "metadata": {},
   "outputs": [
    {
     "data": {
      "text/markdown": [
       "### Incident Report\n",
       "**Log Data:**  \n",
       "```\n",
       "2020-10-25 21:45:13 [orion-srv01] [netflow] \n",
       "Outbound connection established\n",
       "Source: 10.0.5.15:8080 \n",
       "Destination: 104.244.42.129:443 (unknown-host.net)\n",
       "Protocol: TLS1.2\n",
       "```\n",
       "**Timeframe:** 2020-10-25 21:45:13  \n",
       "**Threat Indicators:**  \n",
       "- Outbound connection to an unknown host (104.244.42.129)  \n",
       "- Use of a non-standard port (8080) for outbound communications  \n",
       "- Connection established over TLS1.2, which may suggest encrypted traffic with malicious intent  \n",
       "\n",
       "**Analysis:**  \n",
       "- The connection to 104.244.42.129 raises suspicion as this is an unknown entity without any established reputation.\n",
       "- The use of port 8080 may indicate that this connection bypasses typical security measures, often associated with web proxies or malicious applications.\n",
       "- Outbound connections to unrecognized IP addresses can signify data exfiltration or communications between compromised hosts.\n",
       "\n",
       "**Recommended Actions:**  \n",
       "- Block outbound traffic to 104.244.42.129 immediately. \n",
       "- Perform a detailed investigation on the host at 10.0.5.15 to identify any malware or unauthorized applications.\n",
       "- Review security policies to assess potential weaknesses and ensure compliance.\n",
       "- Monitor logs for further suspicious outbound connections or anomalous behaviors.\n",
       "\n",
       "**Severity Level:** High"
      ],
      "text/plain": [
       "<IPython.core.display.Markdown object>"
      ]
     },
     "metadata": {},
     "output_type": "display_data"
    }
   ],
   "source": [
    "call_model(incident_2)"
   ]
  },
  {
   "cell_type": "code",
   "execution_count": null,
   "id": "38be407e-7458-41e7-8816-847fb7e989b4",
   "metadata": {},
   "outputs": [],
   "source": []
  }
 ],
 "metadata": {
  "kernelspec": {
   "display_name": "Python 3 (ipykernel)",
   "language": "python",
   "name": "python3"
  },
  "language_info": {
   "codemirror_mode": {
    "name": "ipython",
    "version": 3
   },
   "file_extension": ".py",
   "mimetype": "text/x-python",
   "name": "python",
   "nbconvert_exporter": "python",
   "pygments_lexer": "ipython3",
   "version": "3.11.13"
  }
 },
 "nbformat": 4,
 "nbformat_minor": 5
}
