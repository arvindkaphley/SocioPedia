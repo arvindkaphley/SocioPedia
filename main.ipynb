{
 "cells": [
  {
   "cell_type": "code",
   "execution_count": 1,
   "id": "c938a89d-3f11-483c-90be-6adba98693a8",
   "metadata": {},
   "outputs": [],
   "source": [
    "import os\n",
    "from dotenv import load_dotenv\n",
    "from openai import OpenAI\n",
    "import google.generativeai\n",
    "from IPython.display import Markdown, display, update_display"
   ]
  },
  {
   "cell_type": "code",
   "execution_count": 4,
   "id": "057c8f19-1213-4456-90c4-7778d325c1a5",
   "metadata": {},
   "outputs": [
    {
     "name": "stdout",
     "output_type": "stream",
     "text": [
      "OpenAI api key successfully loaded...\n",
      "Gemini api key successfully loaded...\n"
     ]
    }
   ],
   "source": [
    "load_dotenv(override=True)\n",
    "openai_api_key=os.getenv(\"OPENAI_API_KEY\")\n",
    "gemini_api_key=os.getenv(\"GOOGLE_API_KEY\")\n",
    "\n",
    "if openai_api_key:\n",
    "    print(\"OpenAI api key successfully loaded...\")\n",
    "else:\n",
    "    print(\"OpenAI api key missing...\")\n",
    "\n",
    "if gemini_api_key:\n",
    "    print(\"Gemini api key successfully loaded...\")\n",
    "else:\n",
    "    print(\"Gemini api key missing...\")"
   ]
  },
  {
   "cell_type": "code",
   "execution_count": 20,
   "id": "c1c80392-57e3-479d-82d4-e029bb9be054",
   "metadata": {},
   "outputs": [],
   "source": [
    "system_prompt=\"\"\"\n",
    "You are an IT Security Analyst specializing in incident response and log analysis. \n",
    "Your role is to review incoming log data, identify potential security threats, and provide a clear, concise incident report.\n",
    "\n",
    "When analyzing logs:\n",
    "- Focus only on entries that indicate a real or likely threat (ignore normal/noise logs).\n",
    "- For each flagged incident, explain *why it is suspicious* and *what action should be taken*.\n",
    "- Use precise, professional language that could be dropped directly into a SOC ticket.\n",
    "\n",
    "⚠️ Response Requirement:\n",
    "- You must always format the response in **Markdown**.\n",
    "- Use headings, bullet points, and bold text for clarity.\n",
    "- Use fenced code blocks (```) for raw log data.\n",
    "- Keep reports readable and structured for analysts.\n",
    "\n",
    "Your response must always follow this format:\n",
    "\n",
    "### Incident Report\n",
    "**Log Data:**  [Insert relevant log lines]\n",
    "**Timeframe:** [Insert timeframe of event]  \n",
    "**Threat Indicators:** [List IOCs, errors, anomalies, suspicious patterns]  \n",
    "**Analysis:** [Brief explanation of why this is a threat / what it suggests]  \n",
    "**Recommended Actions:** [Clear, prioritized next steps for containment, investigation, or remediation]  \n",
    "**Severity Level:** [Low | Medium | High | Critical]\n",
    "\n",
    "Keep the report concise (bullet points where possible). \n",
    "Do not add extra commentary outside the structured report.\n",
    "\"\"\"\n"
   ]
  },
  {
   "cell_type": "code",
   "execution_count": 38,
   "id": "8df5ea10-5b9c-4663-8fea-35b2f3fe1dfb",
   "metadata": {},
   "outputs": [],
   "source": [
    "openAI=OpenAI()\n",
    "gpt_model=\"gpt-4o-mini\"\n",
    "\n",
    "def call_model(incident:str):\n",
    "    response=openAI.chat.completions.create(\n",
    "        model=gpt_model,\n",
    "        messages=[\n",
    "            {\"role\":\"system\", \"content\": system_prompt},\n",
    "            {\"role\":\"user\", \"content\":incident}\n",
    "        ],\n",
    "    )\n",
    "    \n",
    "    display(Markdown(response.choices[0].message.content))"
   ]
  },
  {
   "cell_type": "code",
   "execution_count": 46,
   "id": "d79a0cb7-c3f1-454d-b76c-e8710c7d1252",
   "metadata": {},
   "outputs": [
    {
     "data": {
      "text/markdown": [
       "### Incident Report\n",
       "**Log Data:**  \n",
       "```\n",
       "2025-08-21 14:03:17 [web-app] [WARN] Query failed: \n",
       "SELECT * FROM users WHERE username = 'admin'--' AND password = 'password';\n",
       "```\n",
       "**Timeframe:** 2025-08-21 14:03:17  \n",
       "**Threat Indicators:**\n",
       "- SQL Injection pattern detected (using `--` for comment)\n",
       "- Query attempts to access user credentials\n",
       "- Use of common username 'admin'  \n",
       "\n",
       "**Analysis:**\n",
       "- The log indicates a failed query that suggests an attempt to manipulate SQL commands, characteristic of SQL injection attacks. \n",
       "- Utilizing the common username 'admin' alongside a failed password input indicates a potential unauthorized access attempt.\n",
       "\n",
       "**Recommended Actions:**\n",
       "- Immediately review application security measures related to input validation and parameterized queries.\n",
       "- Conduct a full security audit on the web application to identify and patch vulnerabilities.\n",
       "- Monitor logs for repeated access attempts related to SQL injection.\n",
       "- Implement web application firewalls (WAF) to block malicious queries.\n",
       "- Notify development and security teams for further investigation.\n",
       "\n",
       "**Severity Level:** High"
      ],
      "text/plain": [
       "<IPython.core.display.Markdown object>"
      ]
     },
     "metadata": {},
     "output_type": "display_data"
    }
   ],
   "source": [
    "incident_1=\"\"\"\n",
    "2025-08-21 14:03:17 [web-app] [WARN] Query failed: \n",
    "SELECT * FROM users WHERE username = 'admin'--' AND password = 'password';\n",
    "\"\"\"\n",
    "call_model(incident_1)"
   ]
  },
  {
   "cell_type": "code",
   "execution_count": 45,
   "id": "3eadfbeb-7a0c-4d5f-ae64-cb119b763927",
   "metadata": {},
   "outputs": [
    {
     "data": {
      "text/markdown": [
       "### Incident Report\n",
       "**Log Data:**\n",
       "```\n",
       "2020-10-25 21:45:13 [orion-srv01] [netflow] \n",
       "Outbound connection established\n",
       "Source: 10.0.5.15:8080 \n",
       "Destination: 104.244.42.129:443 (unknown-host.net)\n",
       "Protocol: TLS1.2\n",
       "```\n",
       "**Timeframe:** 2020-10-25 21:45:13  \n",
       "**Threat Indicators:**\n",
       "- Outbound connection to an unknown host (`unknown-host.net`).\n",
       "- Source IP (`10.0.5.15`) communicating over a non-standard port (8080).\n",
       "- Destination IP affiliated with a known suspect or malicious host.\n",
       "\n",
       "**Analysis:**\n",
       "- The establishment of an outbound connection to a suspicious IP raises concerns about potential data exfiltration or command and control (C2) communication. The use of a non-standard port (8080) further indicates possible obfuscation attempts. Without prior knowledge of legitimate business case for this destination, it is flagged as a security threat.\n",
       "\n",
       "**Recommended Actions:**\n",
       "- Immediately isolate the source system (`10.0.5.15`) to prevent further outbound connections.\n",
       "- Perform a thorough malware scan on the affected host.\n",
       "- Investigate the activity logs of the source IP for additional suspicious behavior.\n",
       "- Assess network traffic patterns to determine if there are similar connections.\n",
       "- Review firewall rules and block outbound connections to the identified IP temporarily.\n",
       "  \n",
       "**Severity Level:** High"
      ],
      "text/plain": [
       "<IPython.core.display.Markdown object>"
      ]
     },
     "metadata": {},
     "output_type": "display_data"
    }
   ],
   "source": [
    "incident_2=\"\"\"\n",
    "2020-10-25 21:45:13 [orion-srv01] [netflow] \n",
    "Outbound connection established\n",
    "Source: 10.0.5.15:8080 \n",
    "Destination: 104.244.42.129:443 (unknown-host.net)\n",
    "Protocol: TLS1.2\n",
    "\"\"\"\n",
    "call_model(incident_2)"
   ]
  },
  {
   "cell_type": "code",
   "execution_count": 47,
   "id": "38be407e-7458-41e7-8816-847fb7e989b4",
   "metadata": {},
   "outputs": [
    {
     "data": {
      "text/markdown": [
       "### Incident Report\n",
       "**Log Data:**  \n",
       "```\n",
       "2025-08-21 12:45:22 [file-server] \n",
       "User: finance_user accessed C:\\Shared\\Q3_budget.xlsx\n",
       "```\n",
       "**Timeframe:** 2025-08-21 12:45:22  \n",
       "**Threat Indicators:**  \n",
       "- Access to a sensitive financial document (Q3_budget.xlsx)  \n",
       "- User role: finance_user (potential for elevated access)  \n",
       "\n",
       "**Analysis:**  \n",
       "- Access to a financial document by an internal user may not inherently be suspicious; however, if the user has not been actively engaged in finance-related tasks or if this action deviates from established access patterns, it could indicate an unauthorized attempt to obtain sensitive information.  \n",
       "- Further scrutiny is warranted if this access was out of the ordinary for the user based on historical patterns or if the document contains sensitive or proprietary information.\n",
       "\n",
       "**Recommended Actions:**  \n",
       "- Verify the legitimacy of the access by checking the user's activity logs for prior engagements.  \n",
       "- Review any recent changes to user permissions.  \n",
       "- Consider implementing alerts for similar accesses to critical files.  \n",
       "- If the access appears anomalous, escalate for further investigation into potential data exfiltration.\n",
       "\n",
       "**Severity Level:** Medium"
      ],
      "text/plain": [
       "<IPython.core.display.Markdown object>"
      ]
     },
     "metadata": {},
     "output_type": "display_data"
    }
   ],
   "source": [
    "incident_3=\"\"\"\n",
    "2025-08-21 12:45:22 [file-server] \n",
    "User: finance_user accessed C:\\Shared\\Q3_budget.xlsx\n",
    "\"\"\"\n",
    "call_model(incident_3)"
   ]
  },
  {
   "cell_type": "code",
   "execution_count": 44,
   "id": "f2205e50-c904-4b01-b584-ceb9deeccba6",
   "metadata": {},
   "outputs": [
    {
     "data": {
      "text/markdown": [
       "### Incident Report\n",
       "**Log Data:**  \n",
       "```\n",
       "2025-08-21 18:02:47 [vpn-gateway] \n",
       "User: aroberts connected from IP: 203.0.113.45 \n",
       "Session ID: 8739201\n",
       "```\n",
       "**Timeframe:** 2025-08-21 18:02:47  \n",
       "**Threat Indicators:**  \n",
       "- Connection from IP: 203.0.113.45  \n",
       "- User: aroberts  \n",
       "\n",
       "**Analysis:**  \n",
       "- The connection from 203.0.113.45 is suspicious if the IP is not recognized or is outside of the expected geographical region for the user. Further investigation is required to identify if this IP address has been associated with previous incidents or known threats. \n",
       "\n",
       "**Recommended Actions:**  \n",
       "- Verify the legitimacy of IP 203.0.113.45 and check for any associated risk.  \n",
       "- Confirm with the user (aroberts) whether they initiated this connection.  \n",
       "- Monitor for any unusual activity associated with session ID 8739201.  \n",
       "- If the connection is unauthorized, terminate the session and block the IP address.\n",
       "\n",
       "**Severity Level:** Medium"
      ],
      "text/plain": [
       "<IPython.core.display.Markdown object>"
      ]
     },
     "metadata": {},
     "output_type": "display_data"
    }
   ],
   "source": [
    "incident_4=\"\"\"\n",
    "2025-08-21 18:02:47 [vpn-gateway] \n",
    "User: aroberts connected from IP: 203.0.113.45 \n",
    "Session ID: 8739201\n",
    "\"\"\"\n",
    "call_model(incident_4)"
   ]
  },
  {
   "cell_type": "code",
   "execution_count": null,
   "id": "6641805a-4071-475b-a1c0-e5815ac6d609",
   "metadata": {},
   "outputs": [],
   "source": []
  }
 ],
 "metadata": {
  "kernelspec": {
   "display_name": "Python 3 (ipykernel)",
   "language": "python",
   "name": "python3"
  },
  "language_info": {
   "codemirror_mode": {
    "name": "ipython",
    "version": 3
   },
   "file_extension": ".py",
   "mimetype": "text/x-python",
   "name": "python",
   "nbconvert_exporter": "python",
   "pygments_lexer": "ipython3",
   "version": "3.11.13"
  }
 },
 "nbformat": 4,
 "nbformat_minor": 5
}
